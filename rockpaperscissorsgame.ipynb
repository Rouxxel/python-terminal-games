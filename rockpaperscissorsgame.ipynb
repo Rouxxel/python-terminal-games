{
 "cells": [
  {
   "cell_type": "code",
   "execution_count": 3,
   "metadata": {},
   "outputs": [
    {
     "name": "stdout",
     "output_type": "stream",
     "text": [
      "**********************************\n",
      "Let's play a rock, paper, scissors game\n",
      "**********************************\n",
      "\n",
      "Select between 'Rock', 'Paper', 'Scissors' or 'Q' to quit\n",
      "\n",
      "\n",
      "You picked:  rock\n",
      "Opponent picked:  scissors\n",
      "You won!\n",
      "Player:  1 CPU:  0 \n",
      "\n",
      "Have a nice day, goodbye\n",
      "Final scores: Player  1 vs CPU  0\n"
     ]
    }
   ],
   "source": [
    "import random\n",
    "\n",
    "print(\"**********************************\")\n",
    "print(\"Let's play a rock, paper, scissors game\")\n",
    "print(\"**********************************\",end=\"\\n\\n\")\n",
    "\n",
    "userWin=0\n",
    "cpuWin=0\n",
    "\n",
    "options=[\"rock\",\"paper\",\"scissors\"]\n",
    "\n",
    "print(\"Select between 'Rock', 'Paper', 'Scissors' or 'Q' to quit\\n\\n\")\n",
    "while True:\n",
    "    userInput=input(\"Select between 'Rock', 'Paper', 'Scissors' or 'Q' to quit\").lower()\n",
    "    \n",
    "    if(userInput==\"q\"):\n",
    "        print(\"Have a nice day, goodbye\")\n",
    "        print(\"Final scores: Player \",userWin,\"vs CPU \",cpuWin)\n",
    "        break\n",
    "    if userInput not in options:\n",
    "        print(\"Please select a valid option\")\n",
    "        continue\n",
    "    \n",
    "    ranNum=random.randint(0,len(options)-1)\n",
    "    cpuPick=options[ranNum]\n",
    "    \n",
    "    print(\"You picked: \",userInput)\n",
    "    print(\"Opponent picked: \", cpuPick)\n",
    "    \n",
    "    if userInput==\"rock\" and cpuPick==\"scissors\":\n",
    "        print(\"You won!\")\n",
    "        userWin=userWin+1\n",
    "        print(\"Player: \",userWin,\"CPU: \",cpuWin,\"\\n\")\n",
    "    elif userInput==\"paper\" and cpuPick==\"rock\":\n",
    "        print(\"You won!\")\n",
    "        userWin=userWin+1\n",
    "        print(\"Player: \",userWin,\"CPU: \",cpuWin,\"\\n\")\n",
    "    elif userInput==\"scissors\" and cpuPick==\"paper\":\n",
    "        print(\"You won!\")\n",
    "        userWin=userWin+1\n",
    "        print(\"Player: \",userWin,\"CPU: \",cpuWin,\"\\n\")\n",
    "    elif userInput==cpuPick:\n",
    "        print(\"Draw\\n\")\n",
    "    else:\n",
    "        print(\"You lost!\")\n",
    "        cpuWin=cpuWin+1\n",
    "        print(\"Player: \",userWin,\"CPU: \",cpuWin,\"\\n\")"
   ]
  }
 ],
 "metadata": {
  "kernelspec": {
   "display_name": "base",
   "language": "python",
   "name": "python3"
  },
  "language_info": {
   "codemirror_mode": {
    "name": "ipython",
    "version": 3
   },
   "file_extension": ".py",
   "mimetype": "text/x-python",
   "name": "python",
   "nbconvert_exporter": "python",
   "pygments_lexer": "ipython3",
   "version": "3.9.13"
  }
 },
 "nbformat": 4,
 "nbformat_minor": 2
}
